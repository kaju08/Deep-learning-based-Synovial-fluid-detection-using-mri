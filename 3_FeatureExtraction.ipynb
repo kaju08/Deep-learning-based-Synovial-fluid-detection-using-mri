{
 "cells": [
  {
   "cell_type": "code",
   "execution_count": 36,
   "id": "82096c7e",
   "metadata": {},
   "outputs": [],
   "source": [
    "import warnings\n",
    "warnings.filterwarnings(\"ignore\")\n",
    "\n",
    "from tensorflow.keras.models import load_model\n",
    "import tensorflow as tf\n",
    "import os\n",
    "import cv2\n",
    "import shutil\n",
    "import random\n",
    "import numpy as np\n",
    "from tensorflow.keras.utils import normalize\n",
    "from tqdm import tqdm\n",
    "import tensorflow\n",
    "from skimage.io import imread, imshow\n",
    "from tensorflow.keras import backend as K\n",
    "from skimage.transform import resize\n",
    "import matplotlib.pyplot as plt\n",
    "from sklearn.model_selection import train_test_split\n",
    "from tensorflow.keras.metrics import MeanIoU\n",
    "\n",
    "seed = 42\n",
    "random.seed = seed\n",
    "np.random.seed = seed\n",
    "tf.random.set_seed(seed)"
   ]
  },
  {
   "cell_type": "code",
   "execution_count": 3,
   "id": "61b845b7",
   "metadata": {},
   "outputs": [],
   "source": [
    "model = load_model(\"model/UNET_model.h5\", compile=False)"
   ]
  },
  {
   "cell_type": "markdown",
   "id": "30e3148e",
   "metadata": {
    "id": "1XNCkbczohmy"
   },
   "source": [
    "## Mask Generation"
   ]
  },
  {
   "cell_type": "code",
   "execution_count": 12,
   "id": "a16250f7",
   "metadata": {},
   "outputs": [],
   "source": [
    "IMG_WIDTH = 224\n",
    "IMG_HEIGHT = 224\n",
    "IMG_CHANNELS = 3"
   ]
  },
  {
   "cell_type": "code",
   "execution_count": 13,
   "id": "2590f1e2",
   "metadata": {},
   "outputs": [],
   "source": [
    "path = \"phase_1_data/original/\""
   ]
  },
  {
   "cell_type": "code",
   "execution_count": 14,
   "id": "596e2681",
   "metadata": {},
   "outputs": [],
   "source": [
    "image_names = os.listdir(path)\n",
    "image_names.sort()"
   ]
  },
  {
   "cell_type": "code",
   "execution_count": 15,
   "id": "5156cc6c",
   "metadata": {},
   "outputs": [
    {
     "name": "stdout",
     "output_type": "stream",
     "text": [
      "['abnormal_Pat1_0.png', 'abnormal_Pat1_1.png', 'abnormal_Pat1_2.png', 'abnormal_Pat1_3.png', 'abnormal_Pat1_4.png', 'abnormal_Pat1_5.png', 'abnormal_Pat1_6.png', 'abnormal_Pat1_7.png', 'abnormal_Pat1_8.png', 'abnormal_Pat1_9.png', 'abnormal_pat 10_0.png', 'abnormal_pat 10_1.png', 'abnormal_pat 10_10.png', 'abnormal_pat 10_11.png', 'abnormal_pat 10_12.png', 'abnormal_pat 10_13.png', 'abnormal_pat 10_14.png', 'abnormal_pat 10_15.png', 'abnormal_pat 10_16.png', 'abnormal_pat 10_2.png', 'abnormal_pat 10_3.png', 'abnormal_pat 10_4.png', 'abnormal_pat 10_5.png', 'abnormal_pat 10_6.png', 'abnormal_pat 10_7.png', 'abnormal_pat 10_8.png', 'abnormal_pat 10_9.png', 'abnormal_pat 11_0.png', 'abnormal_pat 11_1.png', 'abnormal_pat 11_10.png', 'abnormal_pat 11_11.png', 'abnormal_pat 11_12.png', 'abnormal_pat 11_13.png', 'abnormal_pat 11_14.png', 'abnormal_pat 11_15.png', 'abnormal_pat 11_2.png', 'abnormal_pat 11_3.png', 'abnormal_pat 11_4.png', 'abnormal_pat 11_5.png', 'abnormal_pat 11_6.png', 'abnormal_pat 11_7.png', 'abnormal_pat 11_8.png', 'abnormal_pat 11_9.png', 'abnormal_pat 13_0.png', 'abnormal_pat 13_1.png', 'abnormal_pat 13_10.png', 'abnormal_pat 13_11.png', 'abnormal_pat 13_12.png', 'abnormal_pat 13_13.png', 'abnormal_pat 13_2.png', 'abnormal_pat 13_3.png', 'abnormal_pat 13_4.png', 'abnormal_pat 13_5.png', 'abnormal_pat 13_6.png', 'abnormal_pat 13_7.png', 'abnormal_pat 13_8.png', 'abnormal_pat 13_9.png', 'abnormal_pat 15_0.png', 'abnormal_pat 15_1.png', 'abnormal_pat 15_10.png', 'abnormal_pat 15_2.png', 'abnormal_pat 15_3.png', 'abnormal_pat 15_4.png', 'abnormal_pat 15_5.png', 'abnormal_pat 15_6.png', 'abnormal_pat 15_7.png', 'abnormal_pat 15_8.png', 'abnormal_pat 15_9.png', 'abnormal_pat 16_0.png', 'abnormal_pat 16_1.png', 'abnormal_pat 16_10.png', 'abnormal_pat 16_11.png', 'abnormal_pat 16_12.png', 'abnormal_pat 16_13.png', 'abnormal_pat 16_14.png', 'abnormal_pat 16_2.png', 'abnormal_pat 16_3.png', 'abnormal_pat 16_4.png', 'abnormal_pat 16_5.png', 'abnormal_pat 16_6.png', 'abnormal_pat 16_7.png', 'abnormal_pat 16_8.png', 'abnormal_pat 16_9.png', 'abnormal_pat 19_0.png', 'abnormal_pat 19_1.png', 'abnormal_pat 19_10.png', 'abnormal_pat 19_2.png', 'abnormal_pat 19_3.png', 'abnormal_pat 19_4.png', 'abnormal_pat 19_5.png', 'abnormal_pat 19_6.png', 'abnormal_pat 19_7.png', 'abnormal_pat 19_8.png', 'abnormal_pat 19_9.png', 'abnormal_pat 1_0.png', 'abnormal_pat 1_1.png', 'abnormal_pat 1_2.png', 'abnormal_pat 1_3.png', 'abnormal_pat 1_4.png', 'abnormal_pat 1_5.png', 'abnormal_pat 1_6.png', 'abnormal_pat 1_7.png', 'abnormal_pat 1_8.png', 'abnormal_pat 1_9.png', 'abnormal_pat 20_0.png', 'abnormal_pat 20_1.png', 'abnormal_pat 20_10.png', 'abnormal_pat 20_11.png', 'abnormal_pat 20_12.png', 'abnormal_pat 20_13.png', 'abnormal_pat 20_2.png', 'abnormal_pat 20_3.png', 'abnormal_pat 20_4.png', 'abnormal_pat 20_5.png', 'abnormal_pat 20_6.png', 'abnormal_pat 20_7.png', 'abnormal_pat 20_8.png', 'abnormal_pat 20_9.png', 'abnormal_pat 21_0.png', 'abnormal_pat 21_1.png', 'abnormal_pat 21_10.png', 'abnormal_pat 21_11.png', 'abnormal_pat 21_12.png', 'abnormal_pat 21_13.png', 'abnormal_pat 21_14.png', 'abnormal_pat 21_2.png', 'abnormal_pat 21_3.png', 'abnormal_pat 21_4.png', 'abnormal_pat 21_5.png', 'abnormal_pat 21_6.png', 'abnormal_pat 21_7.png', 'abnormal_pat 21_8.png', 'abnormal_pat 21_9.png', 'abnormal_pat 22_0.png', 'abnormal_pat 22_1.png', 'abnormal_pat 22_10.png', 'abnormal_pat 22_11.png', 'abnormal_pat 22_2.png', 'abnormal_pat 22_3.png', 'abnormal_pat 22_4.png', 'abnormal_pat 22_5.png', 'abnormal_pat 22_6.png', 'abnormal_pat 22_7.png', 'abnormal_pat 22_8.png', 'abnormal_pat 22_9.png', 'abnormal_pat 23_0.png', 'abnormal_pat 23_1.png', 'abnormal_pat 23_10.png', 'abnormal_pat 23_11.png', 'abnormal_pat 23_12.png', 'abnormal_pat 23_2.png', 'abnormal_pat 23_3.png', 'abnormal_pat 23_4.png', 'abnormal_pat 23_5.png', 'abnormal_pat 23_6.png', 'abnormal_pat 23_7.png', 'abnormal_pat 23_8.png', 'abnormal_pat 23_9.png', 'abnormal_pat 24_0.png', 'abnormal_pat 24_1.png', 'abnormal_pat 24_10.png', 'abnormal_pat 24_11.png', 'abnormal_pat 24_12.png', 'abnormal_pat 24_13.png', 'abnormal_pat 24_2.png', 'abnormal_pat 24_3.png', 'abnormal_pat 24_4.png', 'abnormal_pat 24_5.png', 'abnormal_pat 24_6.png', 'abnormal_pat 24_7.png', 'abnormal_pat 24_8.png', 'abnormal_pat 24_9.png', 'abnormal_pat 25_0.png', 'abnormal_pat 25_1.png', 'abnormal_pat 25_10.png', 'abnormal_pat 25_11.png', 'abnormal_pat 25_12.png', 'abnormal_pat 25_2.png', 'abnormal_pat 25_3.png', 'abnormal_pat 25_4.png', 'abnormal_pat 25_5.png', 'abnormal_pat 25_6.png', 'abnormal_pat 25_7.png', 'abnormal_pat 25_8.png', 'abnormal_pat 25_9.png', 'abnormal_pat 26_0.png', 'abnormal_pat 26_1.png', 'abnormal_pat 26_10.png', 'abnormal_pat 26_2.png', 'abnormal_pat 26_3.png', 'abnormal_pat 26_4.png', 'abnormal_pat 26_5.png', 'abnormal_pat 26_6.png', 'abnormal_pat 26_7.png', 'abnormal_pat 26_8.png', 'abnormal_pat 26_9.png', 'abnormal_pat 27_0.png', 'abnormal_pat 27_1.png', 'abnormal_pat 27_2.png', 'abnormal_pat 27_3.png', 'abnormal_pat 27_4.png', 'abnormal_pat 27_5.png', 'abnormal_pat 28_0.png', 'abnormal_pat 28_1.png', 'abnormal_pat 28_10.png', 'abnormal_pat 28_11.png', 'abnormal_pat 28_2.png', 'abnormal_pat 28_3.png', 'abnormal_pat 28_4.png', 'abnormal_pat 28_5.png', 'abnormal_pat 28_6.png', 'abnormal_pat 28_7.png', 'abnormal_pat 28_8.png', 'abnormal_pat 28_9.png', 'abnormal_pat 2_0.png', 'abnormal_pat 2_1.png', 'abnormal_pat 2_10.png', 'abnormal_pat 2_11.png', 'abnormal_pat 2_2.png', 'abnormal_pat 2_3.png', 'abnormal_pat 2_4.png', 'abnormal_pat 2_5.png', 'abnormal_pat 2_6.png', 'abnormal_pat 2_7.png', 'abnormal_pat 2_8.png', 'abnormal_pat 2_9.png', 'abnormal_pat 30_0.png', 'abnormal_pat 30_1.png', 'abnormal_pat 30_10.png', 'abnormal_pat 30_11.png', 'abnormal_pat 30_12.png', 'abnormal_pat 30_13.png', 'abnormal_pat 30_14.png', 'abnormal_pat 30_15.png', 'abnormal_pat 30_16.png', 'abnormal_pat 30_17.png', 'abnormal_pat 30_2.png', 'abnormal_pat 30_3.png', 'abnormal_pat 30_4.png', 'abnormal_pat 30_5.png', 'abnormal_pat 30_6.png', 'abnormal_pat 30_7.png', 'abnormal_pat 30_8.png', 'abnormal_pat 30_9.png', 'abnormal_pat 31_0.png', 'abnormal_pat 31_1.png', 'abnormal_pat 31_10.png', 'abnormal_pat 31_11.png', 'abnormal_pat 31_12.png', 'abnormal_pat 31_2.png', 'abnormal_pat 31_3.png', 'abnormal_pat 31_4.png', 'abnormal_pat 31_5.png', 'abnormal_pat 31_6.png', 'abnormal_pat 31_7.png', 'abnormal_pat 31_8.png', 'abnormal_pat 31_9.png', 'abnormal_pat 32_0.png', 'abnormal_pat 32_1.png', 'abnormal_pat 32_10.png', 'abnormal_pat 32_11.png', 'abnormal_pat 32_12.png', 'abnormal_pat 32_13.png', 'abnormal_pat 32_14.png', 'abnormal_pat 32_15.png', 'abnormal_pat 32_16.png', 'abnormal_pat 32_2.png', 'abnormal_pat 32_3.png', 'abnormal_pat 32_4.png', 'abnormal_pat 32_5.png', 'abnormal_pat 32_6.png', 'abnormal_pat 32_7.png', 'abnormal_pat 32_8.png', 'abnormal_pat 32_9.png', 'abnormal_pat 33_0.png', 'abnormal_pat 33_1.png', 'abnormal_pat 33_10.png', 'abnormal_pat 33_11.png', 'abnormal_pat 33_12.png', 'abnormal_pat 33_13.png', 'abnormal_pat 33_14.png', 'abnormal_pat 33_15.png', 'abnormal_pat 33_16.png', 'abnormal_pat 33_17.png', 'abnormal_pat 33_18.png', 'abnormal_pat 33_19.png', 'abnormal_pat 33_2.png', 'abnormal_pat 33_3.png', 'abnormal_pat 33_4.png', 'abnormal_pat 33_5.png', 'abnormal_pat 33_6.png', 'abnormal_pat 33_7.png', 'abnormal_pat 33_8.png', 'abnormal_pat 33_9.png', 'abnormal_pat 35_0.png', 'abnormal_pat 35_1.png', 'abnormal_pat 35_10.png', 'abnormal_pat 35_11.png', 'abnormal_pat 35_12.png', 'abnormal_pat 35_13.png', 'abnormal_pat 35_14.png', 'abnormal_pat 35_15.png', 'abnormal_pat 35_2.png', 'abnormal_pat 35_3.png', 'abnormal_pat 35_4.png', 'abnormal_pat 35_5.png', 'abnormal_pat 35_6.png', 'abnormal_pat 35_7.png', 'abnormal_pat 35_8.png', 'abnormal_pat 35_9.png', 'abnormal_pat 36_0.png', 'abnormal_pat 36_1.png', 'abnormal_pat 36_10.png', 'abnormal_pat 36_11.png', 'abnormal_pat 36_12.png', 'abnormal_pat 36_13.png', 'abnormal_pat 36_14.png', 'abnormal_pat 36_2.png', 'abnormal_pat 36_3.png', 'abnormal_pat 36_4.png', 'abnormal_pat 36_5.png', 'abnormal_pat 36_6.png', 'abnormal_pat 36_7.png', 'abnormal_pat 36_8.png', 'abnormal_pat 36_9.png', 'abnormal_pat 37_0.png', 'abnormal_pat 37_1.png', 'abnormal_pat 37_10.png', 'abnormal_pat 37_11.png', 'abnormal_pat 37_12.png', 'abnormal_pat 37_13.png', 'abnormal_pat 37_14.png', 'abnormal_pat 37_15.png', 'abnormal_pat 37_16.png', 'abnormal_pat 37_17.png', 'abnormal_pat 37_2.png', 'abnormal_pat 37_3.png', 'abnormal_pat 37_4.png', 'abnormal_pat 37_5.png', 'abnormal_pat 37_6.png', 'abnormal_pat 37_7.png', 'abnormal_pat 37_8.png', 'abnormal_pat 37_9.png', 'abnormal_pat 4_0.png', 'abnormal_pat 4_1.png', 'abnormal_pat 4_10.png', 'abnormal_pat 4_11.png', 'abnormal_pat 4_2.png', 'abnormal_pat 4_3.png', 'abnormal_pat 4_4.png', 'abnormal_pat 4_5.png', 'abnormal_pat 4_6.png', 'abnormal_pat 4_7.png', 'abnormal_pat 4_8.png', 'abnormal_pat 4_9.png', 'abnormal_pat 5_0.png', 'abnormal_pat 5_1.png', 'abnormal_pat 5_2.png', 'abnormal_pat 5_3.png', 'abnormal_pat 5_4.png', 'abnormal_pat 5_5.png', 'abnormal_pat 5_6.png', 'abnormal_pat 5_7.png', 'abnormal_pat 5_8.png', 'abnormal_pat 6_0.png', 'abnormal_pat 6_1.png', 'abnormal_pat 6_10.png', 'abnormal_pat 6_2.png', 'abnormal_pat 6_3.png', 'abnormal_pat 6_4.png', 'abnormal_pat 6_5.png', 'abnormal_pat 6_6.png', 'abnormal_pat 6_7.png', 'abnormal_pat 6_8.png', 'abnormal_pat 6_9.png', 'abnormal_pat 7_0.png', 'abnormal_pat 7_1.png', 'abnormal_pat 7_10.png', 'abnormal_pat 7_11.png', 'abnormal_pat 7_12.png', 'abnormal_pat 7_13.png', 'abnormal_pat 7_14.png', 'abnormal_pat 7_2.png', 'abnormal_pat 7_3.png', 'abnormal_pat 7_4.png', 'abnormal_pat 7_5.png', 'abnormal_pat 7_6.png', 'abnormal_pat 7_7.png', 'abnormal_pat 7_8.png', 'abnormal_pat 7_9.png', 'abnormal_pat 8_0.png', 'abnormal_pat 8_1.png', 'abnormal_pat 8_10.png', 'abnormal_pat 8_11.png', 'abnormal_pat 8_12.png', 'abnormal_pat 8_13.png', 'abnormal_pat 8_14.png', 'abnormal_pat 8_15.png', 'abnormal_pat 8_2.png', 'abnormal_pat 8_3.png', 'abnormal_pat 8_4.png', 'abnormal_pat 8_5.png', 'abnormal_pat 8_6.png', 'abnormal_pat 8_7.png', 'abnormal_pat 8_8.png', 'abnormal_pat 8_9.png', 'abnormal_pat 9_0.png', 'abnormal_pat 9_1.png', 'abnormal_pat 9_10.png', 'abnormal_pat 9_11.png', 'abnormal_pat 9_2.png', 'abnormal_pat 9_3.png', 'abnormal_pat 9_4.png', 'abnormal_pat 9_5.png', 'abnormal_pat 9_6.png', 'abnormal_pat 9_7.png', 'abnormal_pat 9_8.png', 'abnormal_pat 9_9.png', 'abnormal_pat10_0.png', 'abnormal_pat10_1.png', 'abnormal_pat10_2.png', 'abnormal_pat10_3.png', 'abnormal_pat10_4.png', 'abnormal_pat10_5.png', 'abnormal_pat10_6.png', 'abnormal_pat10_7.png', 'abnormal_pat10_8.png', 'abnormal_pat10_9.png', 'abnormal_pat11_0.png', 'abnormal_pat11_1.png', 'abnormal_pat11_2.png', 'abnormal_pat11_3.png', 'abnormal_pat11_4.png', 'abnormal_pat11_5.png', 'abnormal_pat12_0.png', 'abnormal_pat12_1.png', 'abnormal_pat12_2.png', 'abnormal_pat12_3.png', 'abnormal_pat12_4.png', 'abnormal_pat12_5.png', 'abnormal_pat12_6.png', 'abnormal_pat13_0.png', 'abnormal_pat13_1.png', 'abnormal_pat13_2.png', 'abnormal_pat13_3.png', 'abnormal_pat13_4.png', 'abnormal_pat13_5.png', 'abnormal_pat13_6.png', 'abnormal_pat13_7.png', 'abnormal_pat14_0.png', 'abnormal_pat14_1.png', 'abnormal_pat14_2.png', 'abnormal_pat14_3.png', 'abnormal_pat14_4.png', 'abnormal_pat14_5.png', 'abnormal_pat14_6.png', 'abnormal_pat15_0.png', 'abnormal_pat15_1.png', 'abnormal_pat15_2.png', 'abnormal_pat15_3.png', 'abnormal_pat15_4.png', 'abnormal_pat15_5.png', 'abnormal_pat15_6.png', 'abnormal_pat15_7.png', 'abnormal_pat15_8.png', 'abnormal_pat17_0.png', 'abnormal_pat17_1.png', 'abnormal_pat17_2.png', 'abnormal_pat17_3.png', 'abnormal_pat17_4.png', 'abnormal_pat17_5.png', 'abnormal_pat18_0.png', 'abnormal_pat18_1.png', 'abnormal_pat18_2.png', 'abnormal_pat18_3.png', 'abnormal_pat18_4.png', 'abnormal_pat18_5.png', 'abnormal_pat18_6.png', 'abnormal_pat18_7.png', 'abnormal_pat18_8.png', 'abnormal_pat18_9.png', 'abnormal_pat19_0.png', 'abnormal_pat19_1.png', 'abnormal_pat19_2.png', 'abnormal_pat19_3.png', 'abnormal_pat19_4.png', 'abnormal_pat20_0.png', 'abnormal_pat20_1.png', 'abnormal_pat20_2.png', 'abnormal_pat20_3.png', 'abnormal_pat20_4.png', 'abnormal_pat20_5.png', 'abnormal_pat20_6.png', 'abnormal_pat20_7.png', 'abnormal_pat21_0.png', 'abnormal_pat21_1.png', 'abnormal_pat21_2.png', 'abnormal_pat21_3.png', 'abnormal_pat21_4.png', 'abnormal_pat22_0.png', 'abnormal_pat22_1.png', 'abnormal_pat22_2.png', 'abnormal_pat22_3.png', 'abnormal_pat22_4.png', 'abnormal_pat22_5.png', 'abnormal_pat22_6.png', 'abnormal_pat22_7.png', 'abnormal_pat22_8.png', 'abnormal_pat23_0.png', 'abnormal_pat23_1.png', 'abnormal_pat23_2.png', 'abnormal_pat23_3.png', 'abnormal_pat23_4.png', 'abnormal_pat23_5.png', 'abnormal_pat23_6.png', 'abnormal_pat23_7.png', 'abnormal_pat23_8.png', 'abnormal_pat23_9.png', 'abnormal_pat24_0.png', 'abnormal_pat24_1.png', 'abnormal_pat24_10.png', 'abnormal_pat24_11.png', 'abnormal_pat24_12.png', 'abnormal_pat24_13.png', 'abnormal_pat24_2.png', 'abnormal_pat24_3.png', 'abnormal_pat24_4.png', 'abnormal_pat24_5.png', 'abnormal_pat24_6.png', 'abnormal_pat24_7.png', 'abnormal_pat24_8.png', 'abnormal_pat24_9.png', 'abnormal_pat25_0.png', 'abnormal_pat25_1.png', 'abnormal_pat25_2.png', 'abnormal_pat25_3.png', 'abnormal_pat25_4.png', 'abnormal_pat25_5.png', 'abnormal_pat25_6.png', 'abnormal_pat25_7.png', 'abnormal_pat25_8.png', 'abnormal_pat25_9.png', 'abnormal_pat26_0.png', 'abnormal_pat26_1.png', 'abnormal_pat26_2.png', 'abnormal_pat26_3.png', 'abnormal_pat26_4.png', 'abnormal_pat26_5.png', 'abnormal_pat27_0.png', 'abnormal_pat27_1.png', 'abnormal_pat27_2.png', 'abnormal_pat27_3.png', 'abnormal_pat27_4.png', 'abnormal_pat27_5.png', 'abnormal_pat27_6.png', 'abnormal_pat2_0.png', 'abnormal_pat2_1.png', 'abnormal_pat2_2.png', 'abnormal_pat2_3.png', 'abnormal_pat2_4.png', 'abnormal_pat2_5.png', 'abnormal_pat2_6.png', 'abnormal_pat2_7.png', 'abnormal_pat2_8.png', 'abnormal_pat30_0.png', 'abnormal_pat30_1.png', 'abnormal_pat30_2.png', 'abnormal_pat30_3.png', 'abnormal_pat30_4.png', 'abnormal_pat30_5.png', 'abnormal_pat30_6.png', 'abnormal_pat30_7.png', 'abnormal_pat30_8.png', 'abnormal_pat31_0.png', 'abnormal_pat31_1.png', 'abnormal_pat31_2.png', 'abnormal_pat31_3.png', 'abnormal_pat31_4.png', 'abnormal_pat31_5.png', 'abnormal_pat31_6.png', 'abnormal_pat31_7.png', 'abnormal_pat31_8.png', 'abnormal_pat31_9.png', 'abnormal_pat32_0.png', 'abnormal_pat32_1.png', 'abnormal_pat32_10.png', 'abnormal_pat32_11.png', 'abnormal_pat32_12.png', 'abnormal_pat32_13.png', 'abnormal_pat32_14.png', 'abnormal_pat32_15.png', 'abnormal_pat32_2.png', 'abnormal_pat32_3.png', 'abnormal_pat32_4.png', 'abnormal_pat32_5.png', 'abnormal_pat32_6.png', 'abnormal_pat32_7.png', 'abnormal_pat32_8.png', 'abnormal_pat32_9.png', 'abnormal_pat33_0.png', 'abnormal_pat33_1.png', 'abnormal_pat33_2.png', 'abnormal_pat33_3.png', 'abnormal_pat33_4.png', 'abnormal_pat33_5.png', 'abnormal_pat33_6.png', 'abnormal_pat33_7.png', 'abnormal_pat33_8.png', 'abnormal_pat33_9.png', 'abnormal_pat34_0.png', 'abnormal_pat34_1.png', 'abnormal_pat34_10.png', 'abnormal_pat34_2.png', 'abnormal_pat34_3.png', 'abnormal_pat34_4.png', 'abnormal_pat34_5.png', 'abnormal_pat34_6.png', 'abnormal_pat34_7.png', 'abnormal_pat34_8.png', 'abnormal_pat34_9.png', 'abnormal_pat35_0.png', 'abnormal_pat35_1.png', 'abnormal_pat35_10.png', 'abnormal_pat35_11.png', 'abnormal_pat35_12.png', 'abnormal_pat35_13.png', 'abnormal_pat35_14.png', 'abnormal_pat35_2.png', 'abnormal_pat35_3.png', 'abnormal_pat35_4.png', 'abnormal_pat35_5.png', 'abnormal_pat35_6.png', 'abnormal_pat35_7.png', 'abnormal_pat35_8.png', 'abnormal_pat35_9.png', 'abnormal_pat36_0.png', 'abnormal_pat36_1.png', 'abnormal_pat36_10.png', 'abnormal_pat36_11.png', 'abnormal_pat36_12.png', 'abnormal_pat36_13.png', 'abnormal_pat36_14.png', 'abnormal_pat36_2.png', 'abnormal_pat36_3.png', 'abnormal_pat36_4.png', 'abnormal_pat36_5.png', 'abnormal_pat36_6.png', 'abnormal_pat36_7.png', 'abnormal_pat36_8.png', 'abnormal_pat36_9.png', 'abnormal_pat37_0.png', 'abnormal_pat37_1.png', 'abnormal_pat37_10.png', 'abnormal_pat37_11.png', 'abnormal_pat37_12.png', 'abnormal_pat37_13.png', 'abnormal_pat37_2.png', 'abnormal_pat37_3.png', 'abnormal_pat37_4.png', 'abnormal_pat37_5.png', 'abnormal_pat37_6.png', 'abnormal_pat37_7.png', 'abnormal_pat37_8.png', 'abnormal_pat37_9.png', 'abnormal_pat38_0.png', 'abnormal_pat38_1.png', 'abnormal_pat38_10.png', 'abnormal_pat38_11.png', 'abnormal_pat38_12.png', 'abnormal_pat38_2.png', 'abnormal_pat38_3.png', 'abnormal_pat38_4.png', 'abnormal_pat38_5.png', 'abnormal_pat38_6.png', 'abnormal_pat38_7.png', 'abnormal_pat38_8.png', 'abnormal_pat38_9.png', 'abnormal_pat39_0.png', 'abnormal_pat39_1.png', 'abnormal_pat39_2.png', 'abnormal_pat39_3.png', 'abnormal_pat39_4.png', 'abnormal_pat39_5.png', 'abnormal_pat39_6.png', 'abnormal_pat3_0.png', 'abnormal_pat3_1.png', 'abnormal_pat3_2.png', 'abnormal_pat3_3.png', 'abnormal_pat3_4.png', 'abnormal_pat3_5.png', 'abnormal_pat3_6.png', 'abnormal_pat3_7.png', 'abnormal_pat3_8.png', 'abnormal_pat40_0.png', 'abnormal_pat40_1.png', 'abnormal_pat40_10.png', 'abnormal_pat40_11.png', 'abnormal_pat40_12.png', 'abnormal_pat40_13.png', 'abnormal_pat40_2.png', 'abnormal_pat40_3.png', 'abnormal_pat40_4.png', 'abnormal_pat40_5.png', 'abnormal_pat40_6.png', 'abnormal_pat40_7.png', 'abnormal_pat40_8.png', 'abnormal_pat40_9.png', 'abnormal_pat41_0.png', 'abnormal_pat41_1.png', 'abnormal_pat41_10.png', 'abnormal_pat41_11.png', 'abnormal_pat41_12.png', 'abnormal_pat41_13.png', 'abnormal_pat41_14.png', 'abnormal_pat41_15.png', 'abnormal_pat41_16.png', 'abnormal_pat41_17.png', 'abnormal_pat41_18.png', 'abnormal_pat41_19.png', 'abnormal_pat41_2.png', 'abnormal_pat41_20.png', 'abnormal_pat41_21.png', 'abnormal_pat41_3.png', 'abnormal_pat41_4.png', 'abnormal_pat41_5.png', 'abnormal_pat41_6.png', 'abnormal_pat41_7.png', 'abnormal_pat41_8.png', 'abnormal_pat41_9.png', 'abnormal_pat42_0.png', 'abnormal_pat42_1.png', 'abnormal_pat42_10.png', 'abnormal_pat42_11.png', 'abnormal_pat42_12.png', 'abnormal_pat42_13.png', 'abnormal_pat42_14.png', 'abnormal_pat42_15.png', 'abnormal_pat42_16.png', 'abnormal_pat42_17.png', 'abnormal_pat42_18.png', 'abnormal_pat42_19.png', 'abnormal_pat42_2.png', 'abnormal_pat42_20.png', 'abnormal_pat42_3.png', 'abnormal_pat42_4.png', 'abnormal_pat42_5.png', 'abnormal_pat42_6.png', 'abnormal_pat42_7.png', 'abnormal_pat42_8.png', 'abnormal_pat42_9.png', 'abnormal_pat43_0.png', 'abnormal_pat43_1.png', 'abnormal_pat43_10.png', 'abnormal_pat43_11.png', 'abnormal_pat43_12.png', 'abnormal_pat43_13.png', 'abnormal_pat43_2.png', 'abnormal_pat43_3.png', 'abnormal_pat43_4.png', 'abnormal_pat43_5.png', 'abnormal_pat43_6.png', 'abnormal_pat43_7.png', 'abnormal_pat43_8.png', 'abnormal_pat43_9.png', 'abnormal_pat44_0.png', 'abnormal_pat44_1.png', 'abnormal_pat44_10.png', 'abnormal_pat44_11.png', 'abnormal_pat44_12.png', 'abnormal_pat44_13.png', 'abnormal_pat44_14.png', 'abnormal_pat44_2.png', 'abnormal_pat44_3.png', 'abnormal_pat44_4.png', 'abnormal_pat44_5.png', 'abnormal_pat44_6.png', 'abnormal_pat44_7.png', 'abnormal_pat44_8.png', 'abnormal_pat44_9.png', 'abnormal_pat45_0.png', 'abnormal_pat45_1.png', 'abnormal_pat45_10.png', 'abnormal_pat45_11.png', 'abnormal_pat45_12.png', 'abnormal_pat45_13.png', 'abnormal_pat45_14.png', 'abnormal_pat45_15.png', 'abnormal_pat45_16.png', 'abnormal_pat45_17.png', 'abnormal_pat45_18.png', 'abnormal_pat45_2.png', 'abnormal_pat45_3.png', 'abnormal_pat45_4.png', 'abnormal_pat45_5.png', 'abnormal_pat45_6.png', 'abnormal_pat45_7.png', 'abnormal_pat45_8.png', 'abnormal_pat45_9.png', 'abnormal_pat46_0.png', 'abnormal_pat46_1.png', 'abnormal_pat46_10.png', 'abnormal_pat46_11.png', 'abnormal_pat46_12.png', 'abnormal_pat46_13.png', 'abnormal_pat46_14.png', 'abnormal_pat46_15.png', 'abnormal_pat46_16.png', 'abnormal_pat46_17.png', 'abnormal_pat46_2.png', 'abnormal_pat46_3.png', 'abnormal_pat46_4.png', 'abnormal_pat46_5.png', 'abnormal_pat46_6.png', 'abnormal_pat46_7.png', 'abnormal_pat46_8.png', 'abnormal_pat46_9.png', 'abnormal_pat47_0.png', 'abnormal_pat47_1.png', 'abnormal_pat47_10.png', 'abnormal_pat47_11.png', 'abnormal_pat47_12.png', 'abnormal_pat47_13.png', 'abnormal_pat47_14.png', 'abnormal_pat47_15.png', 'abnormal_pat47_16.png', 'abnormal_pat47_2.png', 'abnormal_pat47_3.png', 'abnormal_pat47_4.png', 'abnormal_pat47_5.png', 'abnormal_pat47_6.png', 'abnormal_pat47_7.png', 'abnormal_pat47_8.png', 'abnormal_pat47_9.png', 'abnormal_pat48_0.png', 'abnormal_pat48_1.png', 'abnormal_pat48_10.png', 'abnormal_pat48_11.png', 'abnormal_pat48_12.png', 'abnormal_pat48_13.png', 'abnormal_pat48_14.png', 'abnormal_pat48_15.png', 'abnormal_pat48_16.png', 'abnormal_pat48_2.png', 'abnormal_pat48_3.png', 'abnormal_pat48_4.png', 'abnormal_pat48_5.png', 'abnormal_pat48_6.png', 'abnormal_pat48_7.png', 'abnormal_pat48_8.png', 'abnormal_pat48_9.png', 'abnormal_pat49_0.png', 'abnormal_pat49_1.png', 'abnormal_pat49_10.png', 'abnormal_pat49_11.png', 'abnormal_pat49_12.png', 'abnormal_pat49_2.png', 'abnormal_pat49_3.png', 'abnormal_pat49_4.png', 'abnormal_pat49_5.png', 'abnormal_pat49_6.png', 'abnormal_pat49_7.png', 'abnormal_pat49_8.png', 'abnormal_pat49_9.png', 'abnormal_pat4_0.png', 'abnormal_pat4_1.png', 'abnormal_pat4_2.png', 'abnormal_pat4_3.png', 'abnormal_pat4_4.png', 'abnormal_pat4_5.png', 'abnormal_pat4_6.png', 'abnormal_pat4_7.png', 'abnormal_pat4_8.png', 'abnormal_pat4_9.png', 'abnormal_pat50_0.png', 'abnormal_pat50_1.png', 'abnormal_pat50_10.png', 'abnormal_pat50_11.png', 'abnormal_pat50_12.png', 'abnormal_pat50_13.png', 'abnormal_pat50_14.png', 'abnormal_pat50_2.png', 'abnormal_pat50_3.png', 'abnormal_pat50_4.png', 'abnormal_pat50_5.png', 'abnormal_pat50_6.png', 'abnormal_pat50_7.png', 'abnormal_pat50_8.png', 'abnormal_pat50_9.png', 'abnormal_pat5_0.png', 'abnormal_pat5_1.png', 'abnormal_pat5_2.png', 'abnormal_pat5_3.png', 'abnormal_pat5_4.png', 'abnormal_pat5_5.png', 'abnormal_pat5_6.png', 'abnormal_pat5_7.png', 'abnormal_pat5_8.png', 'abnormal_pat60_0.png', 'abnormal_pat60_1.png', 'abnormal_pat60_10.png', 'abnormal_pat60_11.png', 'abnormal_pat60_2.png', 'abnormal_pat60_3.png', 'abnormal_pat60_4.png', 'abnormal_pat60_5.png', 'abnormal_pat60_6.png', 'abnormal_pat60_7.png', 'abnormal_pat60_8.png', 'abnormal_pat60_9.png', 'abnormal_pat61_0.png', 'abnormal_pat61_1.png', 'abnormal_pat61_10.png', 'abnormal_pat61_2.png', 'abnormal_pat61_3.png', 'abnormal_pat61_4.png', 'abnormal_pat61_5.png', 'abnormal_pat61_6.png', 'abnormal_pat61_7.png', 'abnormal_pat61_8.png', 'abnormal_pat61_9.png', 'abnormal_pat62_0.png', 'abnormal_pat62_1.png', 'abnormal_pat62_10.png', 'abnormal_pat62_11.png', 'abnormal_pat62_12.png', 'abnormal_pat62_13.png', 'abnormal_pat62_14.png', 'abnormal_pat62_15.png', 'abnormal_pat62_16.png', 'abnormal_pat62_17.png', 'abnormal_pat62_18.png', 'abnormal_pat62_2.png', 'abnormal_pat62_3.png', 'abnormal_pat62_4.png', 'abnormal_pat62_5.png', 'abnormal_pat62_6.png', 'abnormal_pat62_7.png', 'abnormal_pat62_8.png', 'abnormal_pat62_9.png', 'abnormal_pat63_0.png', 'abnormal_pat63_1.png', 'abnormal_pat63_10.png', 'abnormal_pat63_11.png', 'abnormal_pat63_12.png', 'abnormal_pat63_13.png', 'abnormal_pat63_14.png', 'abnormal_pat63_2.png', 'abnormal_pat63_3.png', 'abnormal_pat63_4.png', 'abnormal_pat63_5.png', 'abnormal_pat63_6.png', 'abnormal_pat63_7.png', 'abnormal_pat63_8.png', 'abnormal_pat63_9.png', 'abnormal_pat64_0.png', 'abnormal_pat64_1.png', 'abnormal_pat64_2.png', 'abnormal_pat64_3.png', 'abnormal_pat64_4.png', 'abnormal_pat64_5.png', 'abnormal_pat64_6.png', 'abnormal_pat64_7.png', 'abnormal_pat64_8.png', 'abnormal_pat65_0.png', 'abnormal_pat65_1.png', 'abnormal_pat65_10.png', 'abnormal_pat65_11.png', 'abnormal_pat65_2.png', 'abnormal_pat65_3.png', 'abnormal_pat65_4.png', 'abnormal_pat65_5.png', 'abnormal_pat65_6.png', 'abnormal_pat65_7.png', 'abnormal_pat65_8.png', 'abnormal_pat65_9.png', 'abnormal_pat66_0.png', 'abnormal_pat66_1.png', 'abnormal_pat66_10.png', 'abnormal_pat66_11.png', 'abnormal_pat66_12.png', 'abnormal_pat66_13.png', 'abnormal_pat66_14.png', 'abnormal_pat66_15.png', 'abnormal_pat66_16.png', 'abnormal_pat66_2.png', 'abnormal_pat66_3.png', 'abnormal_pat66_4.png', 'abnormal_pat66_5.png', 'abnormal_pat66_6.png', 'abnormal_pat66_7.png', 'abnormal_pat66_8.png', 'abnormal_pat66_9.png', 'abnormal_pat67_0.png', 'abnormal_pat67_1.png', 'abnormal_pat67_2.png', 'abnormal_pat67_3.png', 'abnormal_pat67_4.png', 'abnormal_pat67_5.png', 'abnormal_pat67_6.png', 'abnormal_pat67_7.png', 'abnormal_pat67_8.png', 'abnormal_pat67_9.png', 'abnormal_pat68_0.png', 'abnormal_pat68_1.png', 'abnormal_pat68_2.png', 'abnormal_pat68_3.png', 'abnormal_pat68_4.png', 'abnormal_pat68_5.png', 'abnormal_pat68_6.png', 'abnormal_pat68_7.png', 'abnormal_pat68_8.png', 'abnormal_pat69_0.png', 'abnormal_pat69_1.png', 'abnormal_pat69_2.png', 'abnormal_pat69_3.png', 'abnormal_pat69_4.png', 'abnormal_pat69_5.png', 'abnormal_pat69_6.png', 'abnormal_pat69_7.png', 'abnormal_pat69_8.png', 'abnormal_pat69_9.png', 'abnormal_pat6_0.png', 'abnormal_pat6_1.png', 'abnormal_pat6_2.png', 'abnormal_pat6_3.png', 'abnormal_pat6_4.png', 'abnormal_pat70_0.png', 'abnormal_pat70_1.png', 'abnormal_pat70_10.png', 'abnormal_pat70_11.png', 'abnormal_pat70_2.png', 'abnormal_pat70_3.png', 'abnormal_pat70_4.png', 'abnormal_pat70_5.png', 'abnormal_pat70_6.png', 'abnormal_pat70_7.png', 'abnormal_pat70_8.png', 'abnormal_pat70_9.png', 'abnormal_pat71_0.png', 'abnormal_pat71_1.png', 'abnormal_pat71_10.png', 'abnormal_pat71_11.png', 'abnormal_pat71_12.png', 'abnormal_pat71_13.png', 'abnormal_pat71_14.png', 'abnormal_pat71_2.png', 'abnormal_pat71_3.png', 'abnormal_pat71_4.png', 'abnormal_pat71_5.png', 'abnormal_pat71_6.png', 'abnormal_pat71_7.png', 'abnormal_pat71_8.png', 'abnormal_pat71_9.png', 'abnormal_pat72_0.png', 'abnormal_pat72_1.png', 'abnormal_pat72_10.png', 'abnormal_pat72_11.png', 'abnormal_pat72_12.png', 'abnormal_pat72_13.png', 'abnormal_pat72_2.png', 'abnormal_pat72_3.png', 'abnormal_pat72_4.png', 'abnormal_pat72_5.png', 'abnormal_pat72_6.png', 'abnormal_pat72_7.png', 'abnormal_pat72_8.png', 'abnormal_pat72_9.png', 'abnormal_pat74_0.png', 'abnormal_pat74_1.png', 'abnormal_pat74_10.png', 'abnormal_pat74_11.png', 'abnormal_pat74_12.png', 'abnormal_pat74_2.png', 'abnormal_pat74_3.png', 'abnormal_pat74_4.png', 'abnormal_pat74_5.png', 'abnormal_pat74_6.png', 'abnormal_pat74_7.png', 'abnormal_pat74_8.png', 'abnormal_pat74_9.png', 'abnormal_pat7_0.png', 'abnormal_pat7_1.png', 'abnormal_pat7_2.png', 'abnormal_pat7_3.png', 'abnormal_pat7_4.png', 'abnormal_pat8_0.png', 'abnormal_pat8_1.png', 'abnormal_pat8_10.png', 'abnormal_pat8_11.png', 'abnormal_pat8_12.png', 'abnormal_pat8_13.png', 'abnormal_pat8_2.png', 'abnormal_pat8_3.png', 'abnormal_pat8_4.png', 'abnormal_pat8_5.png', 'abnormal_pat8_6.png', 'abnormal_pat8_7.png', 'abnormal_pat8_8.png', 'abnormal_pat8_9.png', 'abnormal_pat9_0.png', 'abnormal_pat9_1.png', 'abnormal_pat9_2.png', 'abnormal_pat9_3.png', 'abnormal_pat9_4.png', 'normal_pat 33_0.png', 'normal_pat 33_1.png', 'normal_pat 33_2.png', 'normal_pat 33_3.png', 'normal_pat 33_4.png', 'normal_pat 34_0.png', 'normal_pat 34_1.png', 'normal_pat 34_2.png', 'normal_pat 34_3.png', 'normal_pat 34_4.png', 'normal_pat 35_0.png', 'normal_pat 35_1.png', 'normal_pat 35_2.png', 'normal_pat 35_3.png', 'normal_pat 35_4.png', 'normal_pat 36_0.png', 'normal_pat 36_1.png', 'normal_pat 36_2.png', 'normal_pat 36_3.png', 'normal_pat 36_4.png', 'normal_pat 37_0.png', 'normal_pat 37_1.png', 'normal_pat 37_2.png', 'normal_pat 37_3.png', 'normal_pat 37_4.png', 'normal_pat 38_0.png', 'normal_pat 38_1.png', 'normal_pat 38_2.png', 'normal_pat 38_3.png', 'normal_pat 38_4.png', 'normal_pat 39_0.png', 'normal_pat 39_1.png', 'normal_pat 39_2.png', 'normal_pat 39_3.png', 'normal_pat 39_4.png', 'normal_pat 40_0.png', 'normal_pat 40_1.png', 'normal_pat 40_2.png', 'normal_pat 40_3.png', 'normal_pat 40_4.png', 'normal_pat 41_0.png', 'normal_pat 41_1.png', 'normal_pat 41_2.png', 'normal_pat 41_3.png', 'normal_pat 41_4.png', 'normal_pat 42_0.png', 'normal_pat 42_1.png', 'normal_pat 42_2.png', 'normal_pat 42_3.png', 'normal_pat 42_4.png', 'normal_pat 43_0.png', 'normal_pat 43_1.png', 'normal_pat 43_2.png', 'normal_pat 43_3.png', 'normal_pat 43_4.png', 'normal_pat 44_0.png', 'normal_pat 44_1.png', 'normal_pat 44_2.png', 'normal_pat 44_3.png', 'normal_pat 44_4.png', 'normal_pat 45_0.png', 'normal_pat 45_1.png', 'normal_pat 45_2.png', 'normal_pat 45_3.png', 'normal_pat 45_4.png', 'normal_pat 46_0.png', 'normal_pat 46_1.png', 'normal_pat 46_2.png', 'normal_pat 46_3.png', 'normal_pat 46_4.png', 'normal_pat 47_0.png', 'normal_pat 47_1.png', 'normal_pat 47_2.png', 'normal_pat 47_3.png', 'normal_pat 47_4.png', 'normal_pat 48_0.png', 'normal_pat 48_1.png', 'normal_pat 48_2.png', 'normal_pat 48_3.png', 'normal_pat 48_4.png', 'normal_pat100_0.png', 'normal_pat100_1.png', 'normal_pat100_2.png', 'normal_pat100_3.png', 'normal_pat100_4.png', 'normal_pat100_5.png', 'normal_pat100_6.png', 'normal_pat11_0.png', 'normal_pat11_1.png', 'normal_pat11_2.png', 'normal_pat11_3.png', 'normal_pat11_4.png', 'normal_pat11_5.png', 'normal_pat11_6.png', 'normal_pat12_0.png', 'normal_pat12_1.png', 'normal_pat12_2.png', 'normal_pat12_3.png', 'normal_pat12_4.png', 'normal_pat12_5.png', 'normal_pat139_0.png', 'normal_pat139_1.png', 'normal_pat139_2.png', 'normal_pat139_3.png', 'normal_pat139_4.png', 'normal_pat139_5.png', 'normal_pat139_6.png', 'normal_pat139_7.png', 'normal_pat139_8.png', 'normal_pat13_0.png', 'normal_pat13_1.png', 'normal_pat13_2.png', 'normal_pat13_3.png', 'normal_pat13_4.png', 'normal_pat13_5.png', 'normal_pat140_0.png', 'normal_pat140_1.png', 'normal_pat140_4.png', 'normal_pat140_5.png', 'normal_pat142_0.png', 'normal_pat142_1.png', 'normal_pat142_2.png', 'normal_pat142_3.png', 'normal_pat142_4.png', 'normal_pat142_5.png', 'normal_pat144_5.png', 'normal_pat149_0.png', 'normal_pat149_3.png', 'normal_pat149_4.png', 'normal_pat152_0.png', 'normal_pat152_1.png', 'normal_pat152_2.png', 'normal_pat152_3.png', 'normal_pat152_4.png', 'normal_pat154_0.png', 'normal_pat154_2.png', 'normal_pat154_3.png', 'normal_pat154_4.png', 'normal_pat156_0.png', 'normal_pat156_2.png', 'normal_pat156_3.png', 'normal_pat156_4.png', 'normal_pat156_5.png', 'normal_pat158_0.png', 'normal_pat158_1.png', 'normal_pat158_2.png', 'normal_pat158_3.png', 'normal_pat158_4.png', 'normal_pat159_0.png', 'normal_pat159_1.png', 'normal_pat159_2.png', 'normal_pat159_3.png', 'normal_pat159_4.png', 'normal_pat15_0.png', 'normal_pat15_1.png', 'normal_pat15_2.png', 'normal_pat15_3.png', 'normal_pat15_4.png', 'normal_pat164_0.png', 'normal_pat164_1.png', 'normal_pat164_2.png', 'normal_pat164_3.png', 'normal_pat164_4.png', 'normal_pat174_0.png', 'normal_pat174_1.png', 'normal_pat174_2.png', 'normal_pat174_3.png', 'normal_pat174_4.png', 'normal_pat179_0.png', 'normal_pat179_1.png', 'normal_pat179_2.png', 'normal_pat179_3.png', 'normal_pat179_4.png', 'normal_pat17_0.png', 'normal_pat17_1.png', 'normal_pat17_2.png', 'normal_pat17_3.png', 'normal_pat17_4.png', 'normal_pat182_0.png', 'normal_pat182_1.png', 'normal_pat182_2.png', 'normal_pat182_3.png', 'normal_pat182_4.png', 'normal_pat186_0.png', 'normal_pat186_1.png', 'normal_pat186_2.png', 'normal_pat186_3.png', 'normal_pat186_4.png', 'normal_pat18_0.png', 'normal_pat18_1.png', 'normal_pat18_2.png', 'normal_pat18_3.png', 'normal_pat18_4.png', 'normal_pat18_5.png', 'normal_pat19_0.png', 'normal_pat19_1.png', 'normal_pat19_2.png', 'normal_pat19_3.png', 'normal_pat19_4.png', 'normal_pat19_5.png', 'normal_pat1_0.png', 'normal_pat1_1.png', 'normal_pat1_2.png', 'normal_pat1_3.png', 'normal_pat1_4.png', 'normal_pat1_5.png', 'normal_pat1_6.png', 'normal_pat20_0.png', 'normal_pat20_1.png', 'normal_pat20_2.png', 'normal_pat20_3.png', 'normal_pat20_4.png', 'normal_pat21_0.png', 'normal_pat21_1.png', 'normal_pat21_2.png', 'normal_pat21_3.png', 'normal_pat21_4.png', 'normal_pat21_5.png', 'normal_pat22_0.png', 'normal_pat22_1.png', 'normal_pat22_2.png', 'normal_pat22_3.png', 'normal_pat22_4.png', 'normal_pat24_0.png', 'normal_pat24_1.png', 'normal_pat24_2.png', 'normal_pat24_3.png', 'normal_pat24_4.png', 'normal_pat24_5.png', 'normal_pat24_6.png', 'normal_pat25_0.png', 'normal_pat25_1.png', 'normal_pat25_2.png', 'normal_pat25_3.png', 'normal_pat25_4.png', 'normal_pat25_5.png', 'normal_pat25_6.png', 'normal_pat26_0.png', 'normal_pat26_1.png', 'normal_pat26_2.png', 'normal_pat26_3.png', 'normal_pat26_4.png', 'normal_pat26_5.png', 'normal_pat26_6.png', 'normal_pat27_0.png', 'normal_pat27_1.png', 'normal_pat27_2.png', 'normal_pat27_3.png', 'normal_pat27_4.png', 'normal_pat27_5.png', 'normal_pat27_6.png', 'normal_pat28_0.png', 'normal_pat28_1.png', 'normal_pat28_2.png', 'normal_pat28_3.png', 'normal_pat28_4.png', 'normal_pat29_0.png', 'normal_pat29_1.png', 'normal_pat29_2.png', 'normal_pat29_3.png', 'normal_pat29_4.png', 'normal_pat2_0.png', 'normal_pat2_1.png', 'normal_pat2_2.png', 'normal_pat2_3.png', 'normal_pat2_4.png', 'normal_pat2_5.png', 'normal_pat30_0.png', 'normal_pat30_1.png', 'normal_pat30_2.png', 'normal_pat30_3.png', 'normal_pat30_4.png', 'normal_pat30_5.png', 'normal_pat31_0.png', 'normal_pat31_1.png', 'normal_pat31_2.png', 'normal_pat31_3.png', 'normal_pat31_4.png', 'normal_pat31_5.png', 'normal_pat31_6.png', 'normal_pat32_0.png', 'normal_pat32_1.png', 'normal_pat32_2.png', 'normal_pat32_3.png', 'normal_pat32_4.png', 'normal_pat32_5.png', 'normal_pat3_0.png', 'normal_pat3_1.png', 'normal_pat3_2.png', 'normal_pat3_3.png', 'normal_pat3_4.png', 'normal_pat3_5.png', 'normal_pat3_6.png', 'normal_pat5_0.png', 'normal_pat5_1.png', 'normal_pat5_2.png', 'normal_pat5_3.png', 'normal_pat5_4.png', 'normal_pat6_0.png', 'normal_pat6_1.png', 'normal_pat6_2.png', 'normal_pat6_3.png', 'normal_pat6_4.png', 'normal_pat6_5.png', 'normal_pat6_6.png', 'normal_pat8_0.png', 'normal_pat8_1.png', 'normal_pat8_2.png', 'normal_pat8_3.png', 'normal_pat8_4.png', 'normal_pat8_5.png', 'normal_pat8_6.png', 'normal_pat98_0.png', 'normal_pat98_1.png', 'normal_pat98_2.png', 'normal_pat98_3.png', 'normal_pat98_4.png', 'normal_pat98_5.png', 'normal_pat98_6.png', 'normal_pat9_0.png', 'normal_pat9_1.png', 'normal_pat9_2.png', 'normal_pat9_3.png', 'normal_pat9_4.png']\n"
     ]
    }
   ],
   "source": [
    "print(image_names)"
   ]
  },
  {
   "cell_type": "code",
   "execution_count": 37,
   "id": "1782a594",
   "metadata": {},
   "outputs": [],
   "source": [
    "outdir = \"phase_2_data\"\n",
    "\n",
    "if outdir in os.listdir(\".\"):\n",
    "    shutil.rmtree(outdir)\n",
    "    os.makedirs(os.path.join(outdir, 'Normal'))\n",
    "    os.makedirs(os.path.join(outdir, 'Abnormal'))\n",
    "else:\n",
    "    os.makedirs(os.path.join(outdir, 'Normal'))\n",
    "    os.makedirs(os.path.join(outdir, 'Abnormal'))"
   ]
  },
  {
   "cell_type": "code",
   "execution_count": 16,
   "id": "1bfc808f",
   "metadata": {},
   "outputs": [
    {
     "name": "stderr",
     "output_type": "stream",
     "text": [
      "100%|██████████████████████████████████████████████████████████████████████████████| 1428/1428 [01:27<00:00, 16.37it/s]\n"
     ]
    }
   ],
   "source": [
    "original_images = np.zeros((len(image_names), IMG_HEIGHT, IMG_WIDTH, IMG_CHANNELS), dtype=np.uint8)\n",
    "\n",
    "for n, id_ in tqdm(enumerate(image_names), total=len(image_names)):\n",
    "    image_path = path + id_\n",
    "    img = imread(image_path)[:,:,:3]\n",
    "    img = resize(img, (IMG_HEIGHT, IMG_WIDTH), mode='constant', preserve_range=True)\n",
    "    original_images[n] = img"
   ]
  },
  {
   "cell_type": "code",
   "execution_count": 17,
   "id": "01d157be",
   "metadata": {},
   "outputs": [
    {
     "name": "stdout",
     "output_type": "stream",
     "text": [
      "45/45 [==============================] - 133s 3s/step\n"
     ]
    }
   ],
   "source": [
    "prediction = model.predict(original_images, batch_size=32, verbose=1)"
   ]
  },
  {
   "cell_type": "code",
   "execution_count": 33,
   "id": "04bd8620",
   "metadata": {},
   "outputs": [],
   "source": [
    "pred = (prediction > 0.3)"
   ]
  },
  {
   "cell_type": "code",
   "execution_count": 38,
   "id": "c9d97e68",
   "metadata": {},
   "outputs": [],
   "source": [
    "for i in range(len(prediction)):\n",
    "    image = cv2.imread(os.path.join('phase_1_data/original', image_names[i]))\n",
    "    image = cv2.cvtColor(image, cv2.COLOR_BGR2RGB)\n",
    "    image_mask = (pred[i]*255).astype(np.uint8)\n",
    "    \n",
    "    ret, mask = cv2.threshold(image_mask, 127, 255, cv2.THRESH_BINARY)\n",
    "    extracted = cv2.bitwise_or(image, image, mask=image_mask)\n",
    "    if image_names[i].split(\"_\")[0] == 'abnormal':\n",
    "        save_path = os.path.join(outdir, 'Abnormal', image_names[i])\n",
    "        cv2.imwrite(save_path, extracted)\n",
    "    elif image_names[i].split(\"_\")[0] == 'normal':\n",
    "        save_path = os.path.join(outdir, 'Normal', image_names[i])\n",
    "        cv2.imwrite(save_path, extracted)\n",
    "    else:\n",
    "        print(\"Check the filename\")"
   ]
  },
  {
   "cell_type": "markdown",
   "id": "a771ee90",
   "metadata": {
    "id": "-CgFmJ3oohm7"
   },
   "source": [
    "## Thank You"
   ]
  }
 ],
 "metadata": {
  "kernelspec": {
   "display_name": "Python 3 (ipykernel)",
   "language": "python",
   "name": "python3"
  },
  "language_info": {
   "codemirror_mode": {
    "name": "ipython",
    "version": 3
   },
   "file_extension": ".py",
   "mimetype": "text/x-python",
   "name": "python",
   "nbconvert_exporter": "python",
   "pygments_lexer": "ipython3",
   "version": "3.11.7"
  }
 },
 "nbformat": 4,
 "nbformat_minor": 5
}
